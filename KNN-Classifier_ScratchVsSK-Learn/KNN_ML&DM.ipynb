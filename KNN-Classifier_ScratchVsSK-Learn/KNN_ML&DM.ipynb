{
  "nbformat": 4,
  "nbformat_minor": 5,
  "metadata": {
    "kernelspec": {
      "display_name": "Python 3",
      "language": "python",
      "name": "python3"
    },
    "language_info": {
      "codemirror_mode": {
        "name": "ipython",
        "version": 3
      },
      "file_extension": ".py",
      "mimetype": "text/x-python",
      "name": "python",
      "nbconvert_exporter": "python",
      "pygments_lexer": "ipython3",
      "version": "3.7.9"
    },
    "colab": {
      "name": "Copy of CB.EN.U4CSE18258_KNN_ML&DMAssign1.ipynb",
      "provenance": [],
      "include_colab_link": true
    }
  },
  "cells": [
    {
      "cell_type": "markdown",
      "metadata": {
        "id": "view-in-github",
        "colab_type": "text"
      },
      "source": [
        "<a href=\"https://colab.research.google.com/github/sudar-coder321/KNN-Classifier_ScratchVsSkLearn/blob/main/KNN_ML%26DM.ipynb\" target=\"_parent\"><img src=\"https://colab.research.google.com/assets/colab-badge.svg\" alt=\"Open In Colab\"/></a>"
      ]
    },
    {
      "cell_type": "markdown",
      "metadata": {
        "id": "unexpected-device"
      },
      "source": [
        "## &nbsp;&nbsp;&nbsp;&nbsp;&nbsp;&nbsp;&nbsp;&nbsp;&nbsp;&nbsp;&nbsp;&nbsp;&nbsp;&nbsp;&nbsp;&nbsp;&nbsp;&nbsp;&nbsp;&nbsp;&nbsp;&nbsp;&nbsp;&nbsp;&nbsp;&nbsp;&nbsp;&nbsp;&nbsp;&nbsp;&nbsp;&nbsp;&nbsp;&nbsp;&nbsp;&nbsp;&nbsp;&nbsp;&nbsp;&nbsp;&nbsp;&nbsp;**Machine Learning and Data Mining** \n",
        "###&nbsp;&nbsp;&nbsp;&nbsp;&nbsp;&nbsp;&nbsp;&nbsp;&nbsp;&nbsp;&nbsp;&nbsp;&nbsp;&nbsp;&nbsp;&nbsp;&nbsp;&nbsp;&nbsp;&nbsp;&nbsp;&nbsp;&nbsp;&nbsp;&nbsp;&nbsp;&nbsp;&nbsp;&nbsp;&nbsp;&nbsp;&nbsp;&nbsp;&nbsp;&nbsp;&nbsp;&nbsp;&nbsp;&nbsp;&nbsp;&nbsp;&nbsp;&nbsp;&nbsp;&nbsp;&nbsp;&nbsp;&nbsp;&nbsp;&nbsp;&nbsp;&nbsp;&nbsp;&nbsp;&nbsp;&nbsp;&nbsp;&nbsp;&nbsp;&nbsp;&nbsp;&nbsp;&nbsp;&nbsp;&nbsp;&nbsp;&nbsp;**Assignment-1** "
      ],
      "id": "unexpected-device"
    },
    {
      "cell_type": "markdown",
      "metadata": {
        "id": "delayed-rogers"
      },
      "source": [
        "  #### &nbsp;&nbsp;&nbsp;&nbsp;&nbsp;&nbsp;&nbsp;&nbsp;&nbsp;&nbsp;&nbsp;&nbsp;&nbsp;&nbsp;&nbsp;&nbsp;&nbsp;&nbsp;&nbsp;&nbsp;&nbsp;&nbsp;&nbsp;&nbsp;&nbsp;&nbsp;&nbsp;&nbsp;&nbsp;&nbsp;&nbsp;&nbsp;&nbsp;&nbsp;&nbsp;&nbsp;&nbsp;&nbsp;&nbsp;&nbsp;&nbsp;&nbsp;&nbsp;&nbsp;&nbsp;&nbsp;&nbsp;&nbsp;&nbsp;&nbsp;&nbsp;&nbsp;&nbsp;&nbsp;&nbsp;&nbsp;&nbsp;&nbsp;&nbsp;&nbsp;&nbsp;&nbsp;&nbsp;&nbsp;&nbsp;&nbsp;&nbsp;&nbsp;&nbsp;&nbsp;&nbsp;&nbsp;&nbsp;&nbsp;&nbsp;&nbsp;&nbsp;&nbsp;&nbsp;&nbsp;&nbsp;&nbsp;&nbsp;&nbsp;&nbsp;&nbsp;&nbsp;&nbsp;&nbsp;&nbsp;&nbsp;&nbsp;&nbsp;&nbsp;&nbsp;&nbsp;&nbsp;&nbsp;&nbsp;&nbsp;&nbsp;&nbsp;&nbsp;&nbsp;&nbsp;&nbsp;&nbsp;&nbsp;&nbsp;&nbsp;&nbsp;&nbsp;&nbsp;&nbsp;&nbsp;&nbsp;&nbsp;&nbsp;&nbsp;&nbsp;&nbsp;&nbsp;&nbsp;&nbsp;&nbsp;&nbsp;&nbsp;&nbsp;&nbsp;&nbsp;&nbsp;&nbsp;&nbsp;&nbsp;&nbsp;&nbsp;&nbsp;&nbsp;&nbsp;&nbsp;&nbsp;&nbsp;&nbsp;&nbsp;&nbsp;&nbsp;&nbsp;&nbsp;&nbsp;&nbsp;&nbsp;Sudarshan.M.S[CB.EN.U4CSE18258]"
      ],
      "id": "delayed-rogers"
    },
    {
      "cell_type": "markdown",
      "metadata": {
        "id": "XZv1DCgBCFE7"
      },
      "source": [
        "#### **Importing Necessary Libraries**"
      ],
      "id": "XZv1DCgBCFE7"
    },
    {
      "cell_type": "code",
      "metadata": {
        "id": "broken-henry"
      },
      "source": [
        "import pandas as pd\n",
        "import numpy as np\n",
        "import seaborn as sns \n",
        "from collections import Counter\n",
        "import matplotlib.pyplot as plt\n",
        "from sklearn import preprocessing\n",
        "from scipy.stats import mode\n",
        "from sklearn.datasets import load_iris\n",
        "from sklearn.neighbors import KNeighborsClassifier\n",
        "from sklearn.model_selection import train_test_split"
      ],
      "id": "broken-henry",
      "execution_count": null,
      "outputs": []
    },
    {
      "cell_type": "markdown",
      "metadata": {
        "id": "Im-MFhQrCMjb"
      },
      "source": [
        "#### **Defining a Naive implementatiom of KNN Classifier using Class based Implementation**"
      ],
      "id": "Im-MFhQrCMjb"
    },
    {
      "cell_type": "code",
      "metadata": {
        "id": "similar-julian"
      },
      "source": [
        "class K_Nearest_Neighbors_Classifier() :  \n",
        "    \n",
        "    def __init__(self, K, ch) :  \n",
        "        self.K = K \n",
        "        self.ch = ch\n",
        "          \n",
        "    def fit(self, X_train, Y_train) :   \n",
        "        self.X_train = X_train \n",
        "        self.Y_train = Y_train \n",
        "        self.m, self.n = X_train.shape \n",
        "      \n",
        "    def predict(self, X_test) : \n",
        "        self.X_test = X_test \n",
        "        self.m_test, self.n = X_test.shape \n",
        "        Y_predict = np.zeros(self.m_test)  \n",
        "        for i in range(self.m_test): \n",
        "            x = self.X_test[i] \n",
        "            neighbors = np.zeros(self.K) \n",
        "            neighbors = self.find_neighbors(x) \n",
        "            Y_predict[i] = mode(neighbors)[0][0]     \n",
        "        return Y_predict \n",
        "\n",
        "    def find_neighbors(self, x) : \n",
        "        distances = np.zeros(self.m)     \n",
        "        for i in range(self.m):\n",
        "            if (self.ch==0):\n",
        "                d = self.euclidean(x, self.X_train[i])\n",
        "                distances[i] = d\n",
        "            elif (self.ch==1):\n",
        "                d = self.Manhattan_dis(x, self.X_train[i]) \n",
        "                distances[i] = d\n",
        "        inds = distances.argsort() \n",
        "        Y_train_sorted = self.Y_train[inds]  \n",
        "        return Y_train_sorted[:self.K] \n",
        "    \n",
        "    def euclidean(self, x, x_train) :     \n",
        "        return np.sqrt(np.sum(np.square(x - x_train)))\n",
        "    \n",
        "    def Manhattan_dis(self, x, x_train):\n",
        "        return np.sum(abs(x-x_train))"
      ],
      "id": "similar-julian",
      "execution_count": null,
      "outputs": []
    },
    {
      "cell_type": "markdown",
      "metadata": {
        "id": "Ulfz3263CaHG"
      },
      "source": [
        "#### **Calculating Accuracy of the Model Using 3 Methods -** \n",
        "##### &nbsp;&nbsp;&nbsp;&nbsp;&nbsp;&nbsp;(i) Using Euclidean Distance\n",
        "##### &nbsp;&nbsp;&nbsp;&nbsp;&nbsp;&nbsp;(ii) Using Manhattan Distance \n",
        "##### &nbsp;&nbsp;&nbsp;&nbsp;&nbsp;&nbsp;(iii) Using skLearn Library"
      ],
      "id": "Ulfz3263CaHG"
    },
    {
      "cell_type": "code",
      "metadata": {
        "colab": {
          "base_uri": "https://localhost:8080/"
        },
        "id": "extraordinary-brisbane",
        "outputId": "1a1e0da5-082d-49b3-92c0-22c6587e9251"
      },
      "source": [
        "df=sns.load_dataset('iris')\n",
        "label_encoder = preprocessing.LabelEncoder() \n",
        "df['species']= label_encoder.fit_transform(df['species'])\n",
        "X = df.iloc[:,:-1].values\n",
        "Y = df.iloc[:,-1:].values\n",
        "X_train, X_test, Y_train, Y_test = train_test_split(X, Y, test_size=0.2, random_state=7)\n",
        "model = K_Nearest_Neighbors_Classifier(K = 3, ch = 0)\n",
        "model.fit(X_train, Y_train)\n",
        "model1 = K_Nearest_Neighbors_Classifier(K = 3, ch = 1)\n",
        "model1.fit(X_train, Y_train)\n",
        "model2 = KNeighborsClassifier(n_neighbors = 3) \n",
        "model2.fit(X_train, np.ravel(Y_train,order='C'))\n",
        "Y_pred = model.predict(X_test)\n",
        "Y_pred1 = model1.predict(X_test)\n",
        "Y_pred2 = model2.predict(X_test) \n",
        "correctly_classified = 0\n",
        "correctly_classified1 = 0\n",
        "correctly_classified2 = 0\n",
        "count = 0\n",
        "for count in range(np.size(Y_pred)) : \n",
        "    if Y_test[count] == Y_pred[count] : \n",
        "            correctly_classified = correctly_classified + 1\n",
        "    if Y_test[count] == Y_pred1[count] : \n",
        "            correctly_classified1 = correctly_classified1 + 1\n",
        "    if Y_test[count] == Y_pred2[count] : \n",
        "            correctly_classified2 = correctly_classified2 + 1\n",
        "    count = count + 1\n",
        "print(\"Accuracy on test set by our model using Euclidean Distance:  \", (correctly_classified / count) * 100) \n",
        "print(\"Accuracy on test set by our model using Manhattan Distance:  \", (correctly_classified1 / count) * 100)\n",
        "print(\"Accuracy on test set by sklearn model:  \", (correctly_classified2 / count) * 100) "
      ],
      "id": "extraordinary-brisbane",
      "execution_count": null,
      "outputs": [
        {
          "output_type": "stream",
          "text": [
            "Accuracy on test set by our model using Euclidean Distance:   86.66666666666667\n",
            "Accuracy on test set by our model using Manhattan Distance:   86.66666666666667\n",
            "Accuracy on test set by sklearn model:   90.0\n"
          ],
          "name": "stdout"
        }
      ]
    },
    {
      "cell_type": "code",
      "metadata": {
        "colab": {
          "base_uri": "https://localhost:8080/"
        },
        "id": "recognized-rates",
        "outputId": "92a8bd91-b9c6-486e-af6e-64c2d863c774"
      },
      "source": [
        "Euclidean_accuracy = []\n",
        "for i in range(3, round(np.sqrt(len(X_train)))):\n",
        "    model = K_Nearest_Neighbors_Classifier(i, 0)\n",
        "    model.fit(X_train, Y_train)\n",
        "    Y_pred = model.predict(X_test)\n",
        "    correctly_classified = 0\n",
        "    for count in range(np.size(Y_pred)) : \n",
        "        if Y_test[count] == Y_pred[count] : \n",
        "            correctly_classified = correctly_classified + 1\n",
        "        count = count+1\n",
        "    Euclidean_accuracy.append((correctly_classified / count) * 100)\n",
        "print(Euclidean_accuracy)"
      ],
      "id": "recognized-rates",
      "execution_count": null,
      "outputs": [
        {
          "output_type": "stream",
          "text": [
            "[86.66666666666667, 93.33333333333333, 90.0, 86.66666666666667, 86.66666666666667, 90.0, 90.0, 90.0]\n"
          ],
          "name": "stdout"
        }
      ]
    },
    {
      "cell_type": "code",
      "metadata": {
        "colab": {
          "base_uri": "https://localhost:8080/"
        },
        "id": "stylish-journalist",
        "outputId": "602d9bb5-185a-4ac8-edf6-669ba57c6e4a"
      },
      "source": [
        "Manhattan_accuracy = []\n",
        "for i in range(3, round(np.sqrt(len(X_train)))):\n",
        "    model = K_Nearest_Neighbors_Classifier(i, 1)\n",
        "    model.fit(X_train, Y_train)\n",
        "    Y_pred = model.predict(X_test)\n",
        "    correctly_classified = 0\n",
        "    for count in range(np.size(Y_pred)) : \n",
        "        if Y_test[count] == Y_pred[count] : \n",
        "            correctly_classified = correctly_classified + 1\n",
        "        count = count+1\n",
        "    Manhattan_accuracy.append((correctly_classified / count) * 100)\n",
        "print(Manhattan_accuracy)"
      ],
      "id": "stylish-journalist",
      "execution_count": null,
      "outputs": [
        {
          "output_type": "stream",
          "text": [
            "[86.66666666666667, 86.66666666666667, 90.0, 86.66666666666667, 83.33333333333334, 83.33333333333334, 90.0, 86.66666666666667]\n"
          ],
          "name": "stdout"
        }
      ]
    },
    {
      "cell_type": "code",
      "metadata": {
        "colab": {
          "base_uri": "https://localhost:8080/"
        },
        "id": "classified-designation",
        "outputId": "3f9296b3-e799-4d42-aadf-2e6ff40fea93"
      },
      "source": [
        "sklearn_accuracy = []\n",
        "for i in range(3, round(np.sqrt(len(X_train)))):\n",
        "    model = KNeighborsClassifier(n_neighbors = i) \n",
        "    model.fit(X_train, np.ravel(Y_train,order='C'))\n",
        "    Y_pred = model.predict(X_test)\n",
        "    correctly_classified = 0\n",
        "    for count in range(np.size(Y_pred)) : \n",
        "        if Y_test[count] == Y_pred[count] : \n",
        "            correctly_classified = correctly_classified + 1\n",
        "        count = count+1\n",
        "    sklearn_accuracy.append((correctly_classified / count) * 100)\n",
        "print(sklearn_accuracy)"
      ],
      "id": "classified-designation",
      "execution_count": null,
      "outputs": [
        {
          "output_type": "stream",
          "text": [
            "[90.0, 93.33333333333333, 90.0, 86.66666666666667, 86.66666666666667, 90.0, 90.0, 90.0]\n"
          ],
          "name": "stdout"
        }
      ]
    },
    {
      "cell_type": "markdown",
      "metadata": {
        "id": "GWIs2RmaDBvG"
      },
      "source": [
        "#### **Plotting Values for the Distance Measures**"
      ],
      "id": "GWIs2RmaDBvG"
    },
    {
      "cell_type": "code",
      "metadata": {
        "colab": {
          "base_uri": "https://localhost:8080/",
          "height": 366
        },
        "id": "confirmed-oriental",
        "outputId": "7af0f028-23c3-4fde-9daf-6694acaa2525"
      },
      "source": [
        "fig = plt.figure()\n",
        "ax = fig.add_axes([0,0,1,1])\n",
        "k = [i for i in range(3, round(np.sqrt(len(X_train))))]\n",
        "ax.bar(k,Euclidean_accuracy)\n",
        "ax.set_ylabel('Accuracy')\n",
        "ax.set_xlabel('k values')\n",
        "ax.set_title('For Euclidean Distance')\n",
        "plt.show()"
      ],
      "id": "confirmed-oriental",
      "execution_count": null,
      "outputs": [
        {
          "output_type": "display_data",
          "data": {
            "image/png": "[encoded data removed]",
            "text/plain": [
              "<Figure size 432x288 with 1 Axes>"
            ]
          },
          "metadata": {
            "tags": [],
            "needs_background": "light"
          }
        }
      ]
    },
    {
      "cell_type": "code",
      "metadata": {
        "colab": {
          "base_uri": "https://localhost:8080/",
          "height": 366
        },
        "id": "general-clearing",
        "outputId": "86db9662-a1a8-4b2d-c7a2-8f0f5d70fb0d"
      },
      "source": [
        "fig = plt.figure()\n",
        "ax1 = fig.add_axes([0,0,1,1])\n",
        "ax1.bar(k,Manhattan_accuracy)\n",
        "ax1.set_ylabel('Accuracy')\n",
        "ax1.set_xlabel('k values')\n",
        "ax1.set_title('For Manhattan Distance')\n",
        "plt.show()"
      ],
      "id": "general-clearing",
      "execution_count": null,
      "outputs": [
        {
          "output_type": "display_data",
          "data": {
            "image/png": "[encoded data removed]",
            "text/plain": [
              "<Figure size 432x288 with 1 Axes>"
            ]
          },
          "metadata": {
            "tags": [],
            "needs_background": "light"
          }
        }
      ]
    },
    {
      "cell_type": "code",
      "metadata": {
        "colab": {
          "base_uri": "https://localhost:8080/",
          "height": 366
        },
        "id": "dated-harvest",
        "outputId": "14bea558-0d24-42bb-bd57-d1cb6d1016f1"
      },
      "source": [
        "fig = plt.figure()\n",
        "ax3 = fig.add_axes([0,0,1,1])\n",
        "ax3.bar(k,sklearn_accuracy)\n",
        "ax3.set_ylabel('Accuracy')\n",
        "ax3.set_xlabel('k values')\n",
        "ax3.set_title('For Sklearn Distance')\n",
        "plt.show()"
      ],
      "id": "dated-harvest",
      "execution_count": null,
      "outputs": [
        {
          "output_type": "display_data",
          "data": {
            "image/png": "[encoded data removed]",
            "text/plain": [
              "<Figure size 432x288 with 1 Axes>"
            ]
          },
          "metadata": {
            "tags": [],
            "needs_background": "light"
          }
        }
      ]
    },
    {
      "cell_type": "markdown",
      "metadata": {
        "id": "experienced-smile"
      },
      "source": [
        "#### **Observations** \n",
        "\n",
        "###### We can observe that the manual implementation using Manhattan Distance is less in accurate compared to naive implementation using Euclidean Distance and the inbuilt function of sklearn."
      ],
      "id": "experienced-smile"
    }
  ]
}